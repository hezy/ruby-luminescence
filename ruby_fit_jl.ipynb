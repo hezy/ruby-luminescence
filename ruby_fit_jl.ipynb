{
 "cells": [
  {
   "cell_type": "code",
   "execution_count": null,
   "metadata": {},
   "outputs": [],
   "source": [
    "using CSV, DataFrames, Plots, LsqFit, Random"
   ]
  },
  {
   "cell_type": "code",
   "execution_count": null,
   "metadata": {},
   "outputs": [],
   "source": [
    "function Gaussian(x, fwhm)\n",
    "    σ = fwhm / (2√(2log(2)))\n",
    "    return @. 1 / √(2π) / σ * exp(-x^2 / 2σ^2)\n",
    "end"
   ]
  },
  {
   "cell_type": "code",
   "execution_count": null,
   "metadata": {},
   "outputs": [],
   "source": [
    "function Lorentzian(x, fwhm)\n",
    "    γ = fwhm / 2\n",
    "    return @. (γ / pi) / (x^2 + γ^2)\n",
    "end"
   ]
  },
  {
   "cell_type": "code",
   "execution_count": null,
   "metadata": {},
   "outputs": [],
   "source": [
    "function Pseudo_Voigt(x, fwhm, n)\n",
    "    return n * Lorentzian(x, fwhm) + (1 - n) * Gaussian(x, fwhm)\n",
    "end"
   ]
  },
  {
   "cell_type": "code",
   "execution_count": null,
   "metadata": {},
   "outputs": [],
   "source": [
    "function peak(λ, λ₀, w, n, A)\n",
    "    return @. A * Pseudo_Voigt(λ - λ₀, w, n)\n",
    "end"
   ]
  },
  {
   "cell_type": "code",
   "execution_count": null,
   "metadata": {},
   "outputs": [],
   "source": [
    "function background(λ, b₀, b₁, b₂)\n",
    "    return @. b₀ + b₁*λ + b₂*λ^2\n",
    "end"
   ]
  },
  {
   "cell_type": "code",
   "execution_count": null,
   "metadata": {},
   "outputs": [],
   "source": [
    "function ruby(λ, p)\n",
    "    return peak(λ, p[1], p[2], p[3], p[4]) +\n",
    "           peak(λ, p[5], p[6], p[7], p[8]) +\n",
    "           background(λ, p[9], p[10], p[11])\n",
    "end"
   ]
  },
  {
   "cell_type": "code",
   "execution_count": null,
   "metadata": {},
   "outputs": [],
   "source": [
    "function plot_it(λ, y, Title)\n",
    "    default(show = true)\n",
    "    plt = plot(λ, y, title = Title, xlabel = \"λ (nm)\", ylabel = \"Intensity (arb.)\")\n",
    "end"
   ]
  },
  {
   "cell_type": "code",
   "execution_count": null,
   "metadata": {},
   "outputs": [],
   "source": [
    "function pressure(λ)\n",
    "    A = 1904.0\n",
    "    B = 7.665\n",
    "    λ₀ = 693.29427\n",
    "    return A/B * (((λ-λ₀)/λ₀ + 1)^B - 1)\n",
    "end"
   ]
  },
  {
   "cell_type": "code",
   "execution_count": null,
   "metadata": {},
   "outputs": [],
   "source": [
    "df = DataFrame(CSV.File(\"0GPa.csv\"))\n",
    "λ = df[!,1];\n",
    "y = df[!,2];"
   ]
  },
  {
   "cell_type": "code",
   "execution_count": null,
   "metadata": {},
   "outputs": [],
   "source": [
    "max_intensity = findmax(df[!, 2])\n",
    "guess_a₁ = max_intensity[1]\n",
    "guess_a₂ = 1.6 * guess_a₁\n",
    "max_position = max_intensity[2]\n",
    "guess_λ₂ = df[max_position[],1]\n",
    "guess_λ₁ = guess_λ₂ - 1.58\n",
    "\n",
    "p0 = [guess_λ₁, 2, 0.5, guess_a₁, guess_λ₂, 2, 0.5, guess_a₂, 0, 0, 0]"
   ]
  },
  {
   "cell_type": "code",
   "execution_count": null,
   "metadata": {},
   "outputs": [],
   "source": [
    "fit = curve_fit(ruby, λ, y, p0)\n",
    "param = fit.param"
   ]
  },
  {
   "cell_type": "code",
   "execution_count": null,
   "metadata": {},
   "outputs": [],
   "source": [
    "scatter(λ , y)\n",
    "plot!(λ, ruby(λ, param))"
   ]
  },
  {
   "cell_type": "code",
   "execution_count": null,
   "metadata": {},
   "outputs": [],
   "source": [
    "p = pressure(param[5]) "
   ]
  }
 ],
 "metadata": {
  "kernelspec": {
   "display_name": "Julia 1.8.5",
   "language": "julia",
   "name": "julia-1.8"
  },
  "language_info": {
   "file_extension": ".jl",
   "mimetype": "application/julia",
   "name": "julia",
   "version": "1.8.5"
  },
  "orig_nbformat": 4,
  "vscode": {
   "interpreter": {
    "hash": "916dbcbb3f70747c44a77c7bcd40155683ae19c65e1c03b4aa3499c5328201f1"
   }
  }
 },
 "nbformat": 4,
 "nbformat_minor": 2
}
